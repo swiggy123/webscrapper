{
 "cells": [
  {
   "cell_type": "markdown",
   "metadata": {},
   "source": [
    "# Webscraper NZZ"
   ]
  },
  {
   "cell_type": "code",
   "execution_count": 1,
   "metadata": {},
   "outputs": [],
   "source": [
    "#import packages\n",
    "from selenium import webdriver\n",
    "from selenium.webdriver.support import expected_conditions as EC\n",
    "from selenium.webdriver.common.by import By\n",
    "from selenium.webdriver.support.ui import WebDriverWait\n",
    "from selenium.common.exceptions import TimeoutException, NoSuchElementException, WebDriverException,NoSuchWindowException\n",
    "import time\n",
    "import configparser"
   ]
  },
  {
   "cell_type": "code",
   "execution_count": 4,
   "metadata": {},
   "outputs": [],
   "source": [
    "class nzz_webdriver:\n",
    "    def __init__(self,webdriver_path:str,e_mail_login:str,password_login:str):\n",
    "        \"\"\"\n",
    "        Arguments:\n",
    "        webdriver_path: Webdriver Path to acivate the Chrome Driver in the form r\"path\"\n",
    "        e_mail_login: e-mail Adress of the nzz account\n",
    "        password_login: password of the nzz account\n",
    "        \"\"\"\n",
    "        try:\n",
    "            # without this option the webdriver crashes sometimes (Stackoverflow: https://stackoverflow.com/questions/53902507/unknown-error-session-deleted-because-of-page-crash-from-unknown-error-cannot)\n",
    "            options = webdriver.ChromeOptions()\n",
    "            options.add_argument(\"--no-sandbox\")\n",
    "            # Start the Webdriver at the executable path\n",
    "            self.driver = webdriver.Chrome(executable_path=webdriver_path,options=options)\n",
    "        except WebDriverException as wde:\n",
    "            print(wde.__context__)\n",
    "            raise WebDriverException\n",
    "        except Exception as e:\n",
    "            print(e.__context__)\n",
    "            raise e\n",
    "        # Check if the nzz Website is still Available\n",
    "        try:\n",
    "            self.driver.get(\"https://www.nzz.ch/\")\n",
    "    \n",
    "        except:\n",
    "            print(\"website no longer exists\")\n",
    "            raise NoSuchWindowException\n",
    "   \n",
    "        # open the register url of nzz, fill in the e-mail adress and click on the login field\n",
    "        try:\n",
    "            # open the register url\n",
    "            self.driver.get(\"https://abo.nzz.ch/registrieren/?sso=1&target=https%3A%2F%2Fwww.nzz.ch%2F\")\n",
    "            # find the e-mail field with the XPath and fill it with the e-mail adress on it.\n",
    "            self.driver.find_element(by=By.XPATH, value=\"//*[@id='c1-login-field']\").send_keys(e_mail_login)\n",
    "            # find the login field with the XPath and click on it.\n",
    "            self.driver.find_element(by=By.XPATH, value=\"/html/body/main/div[2]/form/section[1]/div/div/button\").click()\n",
    "            # Wait 5s for the password field to be presented.\n",
    "            WebDriverWait(self.driver, 5).until(EC.presence_of_element_located((By.ID, \"c1-password-field\")))\n",
    "        # If the password field is not present the password field changed.\n",
    "        except TimeoutException as toe:\n",
    "            print(\"It was not possibel to log in, e-mail is not correct or the XPath of the Password Field Changed\")\n",
    "            raise toe\n",
    "        except WebDriverException as wde:\n",
    "            print(\"The XPath changed, the register url changed or the webdriver closed.\")\n",
    "            raise wde\n",
    "        except Exception as e:\n",
    "            print(e.__context__)\n",
    "            raise e\n",
    "    \n",
    "        # Click on remember me box, fill in password and click on the \"Weiter\" button.\n",
    "        try:\n",
    "            # find the remember me checkbox with the XPath and click on it.\n",
    "            self.driver.find_element(by=By.XPATH, value=\"//*[@id='c1-remember_me-checkbox']\").click()\n",
    "            # find the password field with the XPath and fill in the password.\n",
    "            self.driver.find_element(by=By.XPATH, value=\"//*[@id='c1-password-field']\").send_keys(password_login)\n",
    "            time.sleep(0.5)\n",
    "            # find the \"Weiter\" button with the XPath and click on it.\n",
    "            self.driver.find_element(by=By.XPATH, value=\"/html/body/main/div/div[3]/form/div[5]/button\").click()\n",
    "            # wait 5 seconds until the ID \"__nzz\" is present. Otherwise raise a Timeoutexception.\n",
    "            WebDriverWait(self.driver, 5).until(EC.presence_of_element_located((By.ID, \"__nzz\")))   \n",
    "        # If the Timeoutexception was raised of the webdriverwaitm the password wasn't filled correctly.\n",
    "        except TimeoutException as toe:\n",
    "            print(\"It was not possibel to log in, password was not correct\")\n",
    "            raise toe\n",
    "        # Raise a webdriverexception if the XPATH of the Login Button or the remember me Checkbock changed\n",
    "        except WebDriverException as wde:\n",
    "            print(wde.__context__)\n",
    "            print(\"The XPATH of the Login Button or the remember me Checkbock changed\")\n",
    "        except Exception as e:\n",
    "            print(e.__context__)\n",
    "            raise e\n",
    "\n",
    "    def get_sector_links(self,link_sector:str) -> list:\n",
    "        \"\"\"\n",
    "        Arguments:\n",
    "        link_sector: link of a nzz sector\n",
    "        \n",
    "        Output:\n",
    "        link_list: list with all links of a sector\n",
    "        \"\"\"\n",
    "        try:\n",
    "            self.driver.get(link_sector)\n",
    "            driver_links = self.driver.find_elements_by_xpath(r'//article/div/div/a')\n",
    "        except WebDriverException as wde:\n",
    "            print(wde.__context__)\n",
    "            raise WebDriverException\n",
    "        except Exception as e:\n",
    "            print(e.__context__)\n",
    "            raise e\n",
    "\n",
    "        # if there are no links in one sector the XPath is wrong\n",
    "        if len(driver_links) == 0:\n",
    "            print(\"No links under this link: \"+link_sector+ \" available or the XPATH is wrong\")\n",
    "            raise ValueError\n",
    "        link_list = []\n",
    "        # Save all links in one list\n",
    "        for link in driver_links:\n",
    "            link_list.append(link.get_attribute('href'))\n",
    "        return link_list\n",
    "    "
   ]
  },
  {
   "cell_type": "code",
   "execution_count": 2,
   "metadata": {},
   "outputs": [],
   "source": [
    "nzz_main_links= [\"https://www.nzz.ch/international\",\"https://www.nzz.ch/wirtschaft\",\"https://www.nzz.ch/schweiz\",\"https://www.nzz.ch/zuerich\",\"https://www.nzz.ch/sport\",\"https://www.nzz.ch/technologie\",\"https://www.nzz.ch/finanzen\",\"https://www.nzz.ch/wissenschaft\",\"https://www.nzz.ch/gesellschaft\",\"https://www.nzz.ch/mobilitaet\"]"
   ]
  },
  {
   "cell_type": "code",
   "execution_count": 3,
   "metadata": {},
   "outputs": [
    {
     "ename": "NameError",
     "evalue": "name 'nzz_webdriver' is not defined",
     "output_type": "error",
     "traceback": [
      "\u001b[1;31m---------------------------------------------------------------------------\u001b[0m",
      "\u001b[1;31mNameError\u001b[0m                                 Traceback (most recent call last)",
      "\u001b[1;32mUntitled-1.ipynb Cell 5'\u001b[0m in \u001b[0;36m<module>\u001b[1;34m\u001b[0m\n\u001b[0;32m      <a href='vscode-notebook-cell:Untitled-1.ipynb?jupyter-notebook#ch0000003untitled?line=1'>2</a>\u001b[0m config\u001b[39m.\u001b[39mread(\u001b[39m'\u001b[39m\u001b[39mlogin.ini\u001b[39m\u001b[39m'\u001b[39m)\n\u001b[0;32m      <a href='vscode-notebook-cell:Untitled-1.ipynb?jupyter-notebook#ch0000003untitled?line=2'>3</a>\u001b[0m webdriver_path \u001b[39m=\u001b[39m \u001b[39mr\u001b[39m\u001b[39m\"\u001b[39m\u001b[39mC:/Users/j/OneDrive/wdb/chromedriver_win32/chromedriver.exe\u001b[39m\u001b[39m\"\u001b[39m\n\u001b[1;32m----> <a href='vscode-notebook-cell:Untitled-1.ipynb?jupyter-notebook#ch0000003untitled?line=3'>4</a>\u001b[0m webdriver_c\u001b[39m=\u001b[39mnzz_webdriver(webdriver_path,config[\u001b[39m\"\u001b[39m\u001b[39mLogin\u001b[39m\u001b[39m\"\u001b[39m][\u001b[39m\"\u001b[39m\u001b[39me-mail\u001b[39m\u001b[39m\"\u001b[39m],config[\u001b[39m\"\u001b[39m\u001b[39mLogin\u001b[39m\u001b[39m\"\u001b[39m][\u001b[39m\"\u001b[39m\u001b[39mpassword\u001b[39m\u001b[39m\"\u001b[39m])\n\u001b[0;32m      <a href='vscode-notebook-cell:Untitled-1.ipynb?jupyter-notebook#ch0000003untitled?line=4'>5</a>\u001b[0m nzz_dic \u001b[39m=\u001b[39m {}\n\u001b[0;32m      <a href='vscode-notebook-cell:Untitled-1.ipynb?jupyter-notebook#ch0000003untitled?line=5'>6</a>\u001b[0m \u001b[39mfor\u001b[39;00m sector_links \u001b[39min\u001b[39;00m nzz_main_links:\n",
      "\u001b[1;31mNameError\u001b[0m: name 'nzz_webdriver' is not defined"
     ]
    }
   ],
   "source": [
    "config = configparser.ConfigParser()\n",
    "config.read('login.ini')\n",
    "webdriver_path = r\"C:/Users/j/OneDrive/wdb/chromedriver_win32/chromedriver.exe\"\n",
    "webdriver_c=nzz_webdriver(webdriver_path,config[\"Login\"][\"e-mail\"],config[\"Login\"][\"password\"])\n",
    "nzz_dic = {}\n",
    "for sector_links in nzz_main_links:\n",
    "    links = webdriver_c.get_sector_links(sector_links)\n"
   ]
  }
 ],
 "metadata": {
  "interpreter": {
   "hash": "61dc10e9af1a4ea82968a0d65c62ee0b03506f40aba267f5954c29a1c5b36fa4"
  },
  "kernelspec": {
   "display_name": "Python 3.9.13 64-bit (windows store)",
   "language": "python",
   "name": "python3"
  },
  "language_info": {
   "name": "python",
   "version": "3.9.13"
  },
  "orig_nbformat": 4
 },
 "nbformat": 4,
 "nbformat_minor": 2
}
